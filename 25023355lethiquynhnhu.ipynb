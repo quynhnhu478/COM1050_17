{
  "cells": [
    {
      "cell_type": "markdown",
      "metadata": {},
      "source": [
        "W3A2\n"
      ]
    },
    {
      "cell_type": "code",
      "execution_count": 19,
      "metadata": {},
      "outputs": [
        {
          "name": "stdout",
          "output_type": "stream",
          "text": [
            "5 4\n"
          ]
        }
      ],
      "source": [
        "a=int(input())\n",
        "b=int(input())      \n",
        "a=a^b\n",
        "b=a^b\n",
        "a=a^b\n",
        "print(a,b)\n"
      ]
    },
    {
      "cell_type": "markdown",
      "metadata": {},
      "source": [
        "W3A3"
      ]
    },
    {
      "cell_type": "code",
      "execution_count": 23,
      "metadata": {},
      "outputs": [
        {
          "name": "stdout",
          "output_type": "stream",
          "text": [
            "4 là lũy thừa của 2\n"
          ]
        }
      ],
      "source": [
        "a=int(input())\n",
        "if (a & (a-1)== 0): \n",
        "    print(f\"{a} là lũy thừa của 2\")\n",
        "else:\n",
        "    print(f\"{a} không là lũy thừa của 2\")"
      ]
    },
    {
      "cell_type": "markdown",
      "metadata": {},
      "source": [
        "W3A4\n"
      ]
    },
    {
      "cell_type": "code",
      "execution_count": 47,
      "metadata": {},
      "outputs": [
        {
          "name": "stdout",
          "output_type": "stream",
          "text": [
            "1\n"
          ]
        }
      ],
      "source": [
        "import math\n",
        "m,n=map(float,input().split())\n",
        "print(math.floor(m/n))"
      ]
    },
    {
      "cell_type": "markdown",
      "metadata": {},
      "source": [
        "W3A5"
      ]
    },
    {
      "cell_type": "code",
      "execution_count": 49,
      "metadata": {},
      "outputs": [
        {
          "name": "stdout",
          "output_type": "stream",
          "text": [
            "2\n"
          ]
        }
      ],
      "source": [
        "import math\n",
        "m,n=map(float,input().split())\n",
        "print(math.ceil(m/n))"
      ]
    },
    {
      "cell_type": "markdown",
      "metadata": {},
      "source": [
        "W3A6"
      ]
    },
    {
      "cell_type": "code",
      "execution_count": 8,
      "metadata": {},
      "outputs": [
        {
          "name": "stdout",
          "output_type": "stream",
          "text": [
            "Odd\n"
          ]
        }
      ],
      "source": [
        "x=int(input())\n",
        "if x%2==0:\n",
        "    print(\"Even\")\n",
        "else:\n",
        "    print(\"Odd\")"
      ]
    },
    {
      "cell_type": "markdown",
      "metadata": {},
      "source": [
        "W3A7\n"
      ]
    },
    {
      "cell_type": "code",
      "execution_count": 11,
      "metadata": {},
      "outputs": [
        {
          "name": "stdout",
          "output_type": "stream",
          "text": [
            "Yes\n"
          ]
        }
      ],
      "source": [
        "a=int(input())\n",
        "b=int(input())\n",
        "if a<0 and b<0:\n",
        "    print(\"Yes\")\n",
        "else:\n",
        "    print(\"No\")\n",
        "    "
      ]
    },
    {
      "cell_type": "markdown",
      "metadata": {},
      "source": [
        "W3A8\n"
      ]
    },
    {
      "cell_type": "code",
      "execution_count": 18,
      "metadata": {},
      "outputs": [
        {
          "name": "stdout",
          "output_type": "stream",
          "text": [
            "True\n"
          ]
        }
      ],
      "source": [
        "a=input()\n",
        "b=input()\n",
        "if len(a)>len(b):\n",
        "    print(\"True\")\n",
        "else:\n",
        "    print(\"False\")\n",
        "    "
      ]
    },
    {
      "cell_type": "markdown",
      "metadata": {},
      "source": [
        "W3A9\n"
      ]
    },
    {
      "cell_type": "code",
      "execution_count": null,
      "metadata": {},
      "outputs": [
        {
          "name": "stdout",
          "output_type": "stream",
          "text": [
            "Yes\n"
          ]
        }
      ],
      "source": [
        "a,b,c=map(int,input().split())\n",
        "if (a+b>c) and (a+c>b) and (b+c>a):\n",
        "    print(\"Yes\")\n",
        "else: \n",
        "    print(\"No\")"
      ]
    },
    {
      "cell_type": "markdown",
      "metadata": {},
      "source": [
        "W3A10\n"
      ]
    },
    {
      "cell_type": "code",
      "execution_count": 2,
      "metadata": {},
      "outputs": [
        {
          "name": "stdout",
          "output_type": "stream",
          "text": [
            "22\n"
          ]
        }
      ],
      "source": [
        "a,b,c,d=map(int,input().split())\n",
        "maxx=max(a,b,c,d)\n",
        "print(maxx)"
      ]
    },
    {
      "cell_type": "markdown",
      "metadata": {},
      "source": [
        "W3A11\n"
      ]
    },
    {
      "cell_type": "code",
      "execution_count": 11,
      "metadata": {},
      "outputs": [
        {
          "name": "stdout",
          "output_type": "stream",
          "text": [
            "Tam giác cân\n"
          ]
        }
      ],
      "source": [
        "a,b,c=map(int,input().split())\n",
        "if a+b>c and b+c>a and c+a>b:\n",
        " if a==b==c: print(\"Tam giác đều\")\n",
        " elif a==b or b==c or c==a: print(\"Tam giác cân\")\n",
        " else: print(\"Tam giác thường\")\n",
        "else: print(\"Không phải tam giác\")\n",
        "\n"
      ]
    },
    {
      "cell_type": "markdown",
      "metadata": {},
      "source": [
        "W3A12\n",
        "\n"
      ]
    },
    {
      "cell_type": "code",
      "execution_count": 21,
      "metadata": {},
      "outputs": [
        {
          "name": "stdout",
          "output_type": "stream",
          "text": [
            "Yes\n"
          ]
        }
      ],
      "source": [
        "year=int(input())\n",
        "if ((year%4==0) and (year%100!=0)) or (year%400==0):\n",
        "    print(\"Yes\")\n",
        "else: print(\"No\")"
      ]
    },
    {
      "cell_type": "markdown",
      "metadata": {},
      "source": [
        "W3A14\n",
        "\n"
      ]
    },
    {
      "cell_type": "code",
      "execution_count": 30,
      "metadata": {},
      "outputs": [
        {
          "name": "stdout",
          "output_type": "stream",
          "text": [
            "Vô nghiệm\n"
          ]
        }
      ],
      "source": [
        "a,b=map(int,input().split())\n",
        "if a!=0:\n",
        "    print(f\"Nghiệm của PT là: {-b/a:.2f}\")\n",
        "elif a==0 and b==0:\n",
        "    print(\"Vô số nghiệm\")\n",
        "elif a==0 and b!=0:\n",
        "    print(\"Vô nghiệm\")"
      ]
    },
    {
      "cell_type": "markdown",
      "metadata": {},
      "source": [
        "W3A15\n",
        "\n"
      ]
    },
    {
      "cell_type": "code",
      "execution_count": 35,
      "metadata": {},
      "outputs": [
        {
          "name": "stdout",
          "output_type": "stream",
          "text": [
            "Khá\n"
          ]
        }
      ],
      "source": [
        "tb=float(input())\n",
        "if tb>=8.0:\n",
        "    print(\"Giỏi\")\n",
        "elif tb>=6.5:\n",
        "    print(\"Khá\")\n",
        "elif tb>=5.0:\n",
        "    print(\"Trung bình\")\n",
        "else: \n",
        "    print(\"Yếu\")\n",
        "    "
      ]
    },
    {
      "cell_type": "markdown",
      "metadata": {},
      "source": [
        "W3A16\n",
        "\n"
      ]
    },
    {
      "cell_type": "code",
      "execution_count": 76,
      "metadata": {},
      "outputs": [
        {
          "name": "stdout",
          "output_type": "stream",
          "text": [
            "3 2 2\n"
          ]
        }
      ],
      "source": [
        "a=float(input())\n",
        "if(a>int(a)): \n",
        "    len=int(a)+1 #2.7->3\n",
        "else:\n",
        "    len=int(a) #-2.7->-3\n",
        "if (a<0): \n",
        "    xuong=int(a)-1 #-2.1->-3\n",
        "else: \n",
        "    xuong=int(a) #2.1->2\n",
        "if(a>=0):\n",
        "    if(a-int(a)<0.5): \n",
        "        near=int(a)\n",
        "    else: \n",
        "        near=int(a)+1\n",
        "else:\n",
        "    if(abs(a-int(a))<0.5):\n",
        "        near=int(a)\n",
        "    else:\n",
        "        near=int(a)-1\n",
        "print(len,xuong,near)\n",
        "    "
      ]
    },
    {
      "cell_type": "markdown",
      "metadata": {},
      "source": [
        "W3A17\n",
        "\n"
      ]
    },
    {
      "cell_type": "code",
      "execution_count": 40,
      "metadata": {},
      "outputs": [
        {
          "name": "stdout",
          "output_type": "stream",
          "text": [
            "Tạo thành cấp số nhân\n"
          ]
        }
      ],
      "source": [
        "a,b,c,d=map(int,input().split())\n",
        "if b%a==0 and c%b==0 and d%c==0:\n",
        "    if(b/a)*b==c and c*(c/b)==d:\n",
        "        print(\"Tạo thành cấp số nhân\")\n",
        "    else: print(\"Không tạo thành cấp số nhân\")\n",
        "else: print(\"Không tạo thành cấp số nhân\")"
      ]
    }
  ],
  "metadata": {
    "colab": {
      "provenance": []
    },
    "kernelspec": {
      "display_name": "Python 3",
      "name": "python3"
    },
    "language_info": {
      "codemirror_mode": {
        "name": "ipython",
        "version": 3
      },
      "file_extension": ".py",
      "mimetype": "text/x-python",
      "name": "python",
      "nbconvert_exporter": "python",
      "pygments_lexer": "ipython3",
      "version": "3.13.7"
    }
  },
  "nbformat": 4,
  "nbformat_minor": 0
}
