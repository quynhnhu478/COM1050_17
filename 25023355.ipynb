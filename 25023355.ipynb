{
  "cells": [
    {
      "cell_type": "markdown",
      "metadata": {},
      "source": [
        "W2A1"
      ]
    },
    {
      "cell_type": "code",
      "execution_count": null,
      "metadata": {},
      "outputs": [],
      "source": [
        "print(\"Hello world\")"
      ]
    },
    {
      "cell_type": "markdown",
      "metadata": {
        "id": "JYag6QVRWt6Z"
      },
      "source": [
        "W2A2"
      ]
    },
    {
      "cell_type": "code",
      "execution_count": null,
      "metadata": {
        "colab": {
          "base_uri": "https://localhost:8080/"
        },
        "id": "HJn6-01NWJhm",
        "outputId": "cb11bd8d-7b32-4c22-b5b8-fdd7a62cde44"
      },
      "outputs": [],
      "source": [
        "user_name = input()\n",
        "print(f\"Hello {user_name}\")"
      ]
    },
    {
      "cell_type": "markdown",
      "metadata": {},
      "source": [
        "W2A3"
      ]
    },
    {
      "cell_type": "code",
      "execution_count": null,
      "metadata": {},
      "outputs": [],
      "source": [
        "a=int(input())\n",
        "b=int(input())\n",
        "print(a+b)\n",
        "print(a-b)\n",
        "print(a*b)\n",
        "print(a//b)\n",
        "print(f\"{a/b:.2f}\")\n",
        "\"\"\": bat dau dinh dang, 2: so chu so sau dau phay, f: dinh dang float\"\"\""
      ]
    },
    {
      "cell_type": "markdown",
      "metadata": {},
      "source": [
        "W2A4"
      ]
    },
    {
      "cell_type": "code",
      "execution_count": null,
      "metadata": {},
      "outputs": [],
      "source": [
        "a1, b1, c1, a2, b2, a3=map(int,input().split())\n",
        "TB=((a1+b1+c1)+(a2+b2)*2+a3*3)/10\n",
        "print(f\"{TB:.1f}\")\n",
        "\"\"\": bat dau dinh dang, 2: so chu so sau dau phay, f: dinh dang float\"\"\""
      ]
    },
    {
      "cell_type": "markdown",
      "metadata": {},
      "source": [
        "W2A5"
      ]
    },
    {
      "cell_type": "code",
      "execution_count": null,
      "metadata": {},
      "outputs": [],
      "source": [
        "a,b=map(int,input().split())\n",
        "print(a**b)"
      ]
    },
    {
      "cell_type": "markdown",
      "metadata": {},
      "source": [
        "W2A6"
      ]
    },
    {
      "cell_type": "code",
      "execution_count": null,
      "metadata": {},
      "outputs": [
        {
          "name": "stdout",
          "output_type": "stream",
          "text": [
            "116\n",
            "chu cai in hoa cua t la T\n"
          ]
        }
      ],
      "source": [
        "a=input()\n",
        "b=ord(a) #chuyen thanh ma unicode \n",
        "print(b)\n",
        "c=chr(b-32) # mã ascii của a là 97, A là 65\n",
        "print(f\"chu cai in hoa cua {a} la {c}\")"
      ]
    },
    {
      "cell_type": "markdown",
      "metadata": {},
      "source": [
        "W2A7"
      ]
    },
    {
      "cell_type": "code",
      "execution_count": 6,
      "metadata": {},
      "outputs": [
        {
          "name": "stdout",
          "output_type": "stream",
          "text": [
            "512 512\n"
          ]
        }
      ],
      "source": [
        "A = ((13 ** 2) * 3) + 5 \n",
        "B = 13**2*3 + 5\n",
        "print(A, B)"
      ]
    },
    {
      "cell_type": "markdown",
      "metadata": {},
      "source": [
        "W2A8"
      ]
    },
    {
      "cell_type": "code",
      "execution_count": 5,
      "metadata": {},
      "outputs": [
        {
          "name": "stdout",
          "output_type": "stream",
          "text": [
            "113.00\n"
          ]
        }
      ],
      "source": [
        "c=float(input()) #mac dinh tra ve chuoi nen phai ep kieu float\n",
        "f = 9/5*c+ 32\n",
        "print(f\"{f:.2f}\")"
      ]
    },
    {
      "cell_type": "markdown",
      "metadata": {},
      "source": [
        "W2A9"
      ]
    },
    {
      "cell_type": "code",
      "execution_count": 47,
      "metadata": {},
      "outputs": [
        {
          "name": "stdout",
          "output_type": "stream",
          "text": [
            "12.80\n"
          ]
        }
      ],
      "source": [
        "x=float(input())\n",
        "c=x+10+x*0.3+x*0.1\n",
        "print(f\"{c:.2f}\")"
      ]
    },
    {
      "cell_type": "markdown",
      "metadata": {
        "id": "kna1WaRaYDUm"
      },
      "source": [
        "W2A10\n"
      ]
    },
    {
      "cell_type": "code",
      "execution_count": null,
      "metadata": {
        "colab": {
          "base_uri": "https://localhost:8080/"
        },
        "id": "Y1e8EPtgYE8f",
        "outputId": "07e6fc17-cdee-41a8-a739-7c3362d57b32"
      },
      "outputs": [],
      "source": [
        "user1 = input(\" \")\n",
        "user2 = input(\" \")\n",
        "user3 = input(\" \")\n",
        "print(f\"Hello {user3}, {user2} and {user1}\")"
      ]
    },
    {
      "cell_type": "markdown",
      "metadata": {},
      "source": [
        "W2A11"
      ]
    },
    {
      "cell_type": "code",
      "execution_count": null,
      "metadata": {},
      "outputs": [],
      "source": [
        "a,b=map(int,input().split())\n",
        "gio=a*3600\n",
        "phut=b*60\n",
        "print(gio, phut)"
      ]
    },
    {
      "cell_type": "markdown",
      "metadata": {},
      "source": [
        "W2A12"
      ]
    },
    {
      "cell_type": "code",
      "execution_count": 50,
      "metadata": {},
      "outputs": [
        {
          "name": "stdout",
          "output_type": "stream",
          "text": [
            "96\n"
          ]
        }
      ],
      "source": [
        "n=int(input())\n",
        "print(n**2*6)"
      ]
    },
    {
      "cell_type": "markdown",
      "metadata": {},
      "source": [
        "W2A13"
      ]
    },
    {
      "cell_type": "code",
      "execution_count": null,
      "metadata": {},
      "outputs": [
        {
          "name": "stdout",
          "output_type": "stream",
          "text": [
            "2\n"
          ]
        }
      ],
      "source": [
        "a=int(input())\n",
        "b=int(input())\n",
        "print(a*b%10)\n"
      ]
    },
    {
      "cell_type": "markdown",
      "metadata": {},
      "source": [
        "W2A14"
      ]
    },
    {
      "cell_type": "code",
      "execution_count": 16,
      "metadata": {},
      "outputs": [
        {
          "name": "stdout",
          "output_type": "stream",
          "text": [
            "5 4\n"
          ]
        }
      ],
      "source": [
        "a,b=map(int,input().split())\n",
        "a,b=b,a\n",
        "print(a,b)"
      ]
    },
    {
      "cell_type": "markdown",
      "metadata": {},
      "source": [
        "W2A15"
      ]
    },
    {
      "cell_type": "code",
      "execution_count": null,
      "metadata": {},
      "outputs": [
        {
          "name": "stdout",
          "output_type": "stream",
          "text": [
            "37\n"
          ]
        }
      ],
      "source": [
        "n=int(input())\n",
        "print()"
      ]
    },
    {
      "cell_type": "markdown",
      "metadata": {
        "id": "WnnucT0eZFl-"
      },
      "source": [
        "W2A16\n"
      ]
    },
    {
      "cell_type": "code",
      "execution_count": null,
      "metadata": {
        "id": "17s3MGzqZHX3"
      },
      "outputs": [],
      "source": [
        "print(\"Spring\\nSummer\\nAutumn\\nWinter\")"
      ]
    },
    {
      "cell_type": "code",
      "execution_count": null,
      "metadata": {
        "id": "VZDpySjwbTSQ"
      },
      "outputs": [],
      "source": [
        "print(\"Spring\", end=\"\\n\")\n",
        "print(\"Summer\", end=\"\\n\")\n",
        "print(\"Autumn\", end=\"\\n\")\n",
        "print(\"Winter\")"
      ]
    },
    {
      "cell_type": "code",
      "execution_count": null,
      "metadata": {
        "id": "-t_Jp0j_bUek"
      },
      "outputs": [],
      "source": [
        "season = '''Spring\n",
        "Summer\n",
        "Autumn\n",
        "Winter'''\n",
        "print(season)"
      ]
    },
    {
      "cell_type": "code",
      "execution_count": null,
      "metadata": {
        "id": "W8ChvfAxbht2"
      },
      "outputs": [],
      "source": [
        "print(\"Spring\",\"Summer\",\"Autumn\",\"Winter\",sep=\"\\n\")"
      ]
    },
    {
      "cell_type": "markdown",
      "metadata": {
        "id": "B5sIFjiOcHSE"
      },
      "source": [
        "W2A17"
      ]
    },
    {
      "cell_type": "code",
      "execution_count": null,
      "metadata": {
        "colab": {
          "base_uri": "https://localhost:8080/"
        },
        "id": "gQLADxJ-cJH4",
        "outputId": "53826d6b-a86f-4136-bb42-bf5aa38cf60e"
      },
      "outputs": [
        {
          "name": "stdout",
          "output_type": "stream",
          "text": [
            "*\n",
            "***\n",
            "*****\n"
          ]
        }
      ],
      "source": [
        "print(\"*\")\n",
        "print(\"***\")\n",
        "print(\"*****\")\n"
      ]
    },
    {
      "cell_type": "code",
      "execution_count": null,
      "metadata": {
        "colab": {
          "base_uri": "https://localhost:8080/"
        },
        "id": "2FIj1Z__lg-3",
        "outputId": "895f5d7a-91a0-425e-eb93-860dfc0afdbb"
      },
      "outputs": [
        {
          "name": "stdout",
          "output_type": "stream",
          "text": [
            "*\n",
            "***\n",
            "*****\n"
          ]
        }
      ],
      "source": [
        "a=\"\"\"*\n",
        "***\n",
        "*****\"\"\"\n",
        "print(a)"
      ]
    },
    {
      "cell_type": "code",
      "execution_count": null,
      "metadata": {
        "colab": {
          "base_uri": "https://localhost:8080/"
        },
        "id": "VTMvQnRrmX2q",
        "outputId": "877fa628-09cc-410f-94aa-c4541f76391d"
      },
      "outputs": [
        {
          "name": "stdout",
          "output_type": "stream",
          "text": [
            "*\n",
            "***\n",
            "*****\n"
          ]
        }
      ],
      "source": [
        "for i in range(1,6,2):\n",
        " print('*'*i)"
      ]
    },
    {
      "cell_type": "markdown",
      "metadata": {
        "id": "dVoLCst2dUz-"
      },
      "source": [
        "W2A18\n"
      ]
    },
    {
      "cell_type": "code",
      "execution_count": null,
      "metadata": {
        "colab": {
          "base_uri": "https://localhost:8080/"
        },
        "id": "WHWr0hKtdWg0",
        "outputId": "4aaa007d-ce37-4152-f9b9-ef41057b001a"
      },
      "outputs": [
        {
          "name": "stdout",
          "output_type": "stream",
          "text": [
            "### # #   ### ###\n",
            " #  #  #   #   #\n",
            " #  #   #  #   #\n",
            " #  #  #   #   #\n",
            " #  # #    #   #\n"
          ]
        }
      ],
      "source": [
        "print(\"### # #   ### ###\")\n",
        "print(\" #  #  #   #   #\")\n",
        "print(\" #  #   #  #   #\")\n",
        "print(\" #  #  #   #   #\")\n",
        "print(\" #  # #    #   #\")"
      ]
    },
    {
      "cell_type": "code",
      "execution_count": null,
      "metadata": {
        "colab": {
          "base_uri": "https://localhost:8080/"
        },
        "id": "RuACOUZaj5FS",
        "outputId": "6aff21f0-f3a1-4dc8-bf9b-191f6faa8d6b"
      },
      "outputs": [
        {
          "name": "stdout",
          "output_type": "stream",
          "text": [
            "### # #   ### ###\n",
            " #  #  #   #   #\n",
            " #  #   #  #   #\n",
            " #  #  #   #   #\n",
            " #  # #    #   #\n"
          ]
        }
      ],
      "source": [
        "a=\"\"\"### # #   ### ###\n",
        "  #  #  #   #   #\n",
        "  #  #   #  #   #\n",
        "  #  #  #   #   #\n",
        "  #  # #    #   #\"\"\"\n",
        "print(a)"
      ]
    },
    {
      "cell_type": "markdown",
      "metadata": {
        "id": "E08BfBsvgV3T"
      },
      "source": [
        "W2A19"
      ]
    },
    {
      "cell_type": "code",
      "execution_count": null,
      "metadata": {
        "colab": {
          "base_uri": "https://localhost:8080/"
        },
        "id": "71WJ_EjHgVA-",
        "outputId": "13b23b85-34fc-4b4f-9f42-e22e6d2ed879"
      },
      "outputs": [
        {
          "name": "stdout",
          "output_type": "stream",
          "text": [
            "Monday\n",
            "Tuesday\n",
            "Wednesday\n",
            "Thursday\n",
            "Friday\n",
            "Saturday\n",
            "Sunday\n"
          ]
        }
      ],
      "source": [
        "print(\"Monday\\nTuesday\\nWednesday\\nThursday\\nFriday\\nSaturday\\nSunday\")"
      ]
    },
    {
      "cell_type": "markdown",
      "metadata": {
        "id": "RZStJ1zKg-bm"
      },
      "source": [
        "W2A20\n"
      ]
    },
    {
      "cell_type": "code",
      "execution_count": null,
      "metadata": {
        "colab": {
          "base_uri": "https://localhost:8080/"
        },
        "id": "SYnH1h_ThAfQ",
        "outputId": "b79648a9-d45e-4dec-900f-ab55d6fcb5a3"
      },
      "outputs": [
        {
          "name": "stdout",
          "output_type": "stream",
          "text": [
            "January\n",
            "February\n",
            "March\n",
            "April\n",
            "May\n",
            "June\n",
            "July\n",
            "August\n",
            "September\n",
            "October\n",
            "November\n",
            "December\n"
          ]
        }
      ],
      "source": [
        "print(\"January\\nFebruary\\nMarch\\nApril\\nMay\\nJune\\nJuly\\nAugust\\nSeptember\\nOctober\\nNovember\\nDecember\")"
      ]
    },
    {
      "cell_type": "markdown",
      "metadata": {
        "id": "nfqk1kyoiFfF"
      },
      "source": [
        "W2A21\n"
      ]
    },
    {
      "cell_type": "code",
      "execution_count": null,
      "metadata": {
        "colab": {
          "base_uri": "https://localhost:8080/"
        },
        "id": "aKMVG2k1iHR2",
        "outputId": "f85dc122-bc96-4b28-a86a-473b0b1f58a8"
      },
      "outputs": [
        {
          "name": "stdout",
          "output_type": "stream",
          "text": [
            "Hello, world\n",
            "Hello, world\n",
            "Hello, world\n",
            "Hello, world\n",
            "Hello, world\n",
            "Hello, world\n",
            "Hello, world\n",
            "Hello, world\n",
            "Hello, world\n",
            "Hello, world\n"
          ]
        }
      ],
      "source": [
        "for i in range(10):\n",
        " print(\"Hello, world\")"
      ]
    }
  ],
  "metadata": {
    "colab": {
      "provenance": []
    },
    "kernelspec": {
      "display_name": "Python 3",
      "name": "python3"
    },
    "language_info": {
      "codemirror_mode": {
        "name": "ipython",
        "version": 3
      },
      "file_extension": ".py",
      "mimetype": "text/x-python",
      "name": "python",
      "nbconvert_exporter": "python",
      "pygments_lexer": "ipython3",
      "version": "3.13.7"
    }
  },
  "nbformat": 4,
  "nbformat_minor": 0
}
